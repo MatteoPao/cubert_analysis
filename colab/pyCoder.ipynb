{
  "nbformat": 4,
  "nbformat_minor": 0,
  "metadata": {
    "colab": {
      "name": "pyCoder.ipynb",
      "provenance": [],
      "collapsed_sections": [],
      "include_colab_link": true
    },
    "kernelspec": {
      "name": "python3",
      "display_name": "Python 3"
    },
    "language_info": {
      "name": "python"
    },
    "accelerator": "GPU"
  },
  "cells": [
    {
      "cell_type": "markdown",
      "metadata": {
        "id": "view-in-github",
        "colab_type": "text"
      },
      "source": [
        "<a href=\"https://colab.research.google.com/github/MatteoPao/cubert_keras/blob/main/colab/pyCoder.ipynb\" target=\"_parent\"><img src=\"https://colab.research.google.com/assets/colab-badge.svg\" alt=\"Open In Colab\"/></a>"
      ]
    },
    {
      "cell_type": "code",
      "execution_count": 19,
      "metadata": {
        "id": "AgdUN_wc0YKu",
        "outputId": "68ae540b-299b-4ff1-a747-1c692c008fde",
        "colab": {
          "base_uri": "https://localhost:8080/"
        }
      },
      "outputs": [
        {
          "output_type": "stream",
          "name": "stdout",
          "text": [
            "Cloning into 'cubert_keras'...\n",
            "remote: Enumerating objects: 686, done.\u001b[K\n",
            "remote: Counting objects: 100% (639/639), done.\u001b[K\n",
            "remote: Compressing objects: 100% (471/471), done.\u001b[K\n",
            "remote: Total 686 (delta 265), reused 493 (delta 144), pack-reused 47\u001b[K\n",
            "Receiving objects: 100% (686/686), 9.62 MiB | 6.33 MiB/s, done.\n",
            "Resolving deltas: 100% (268/268), done.\n",
            "/content/cubert_keras/src/cubert_keras/src\n"
          ]
        }
      ],
      "source": [
        "!git clone https://github.com/MatteoPao/cubert_keras.git\n",
        "\n",
        "%cd cubert_keras/src/"
      ]
    },
    {
      "cell_type": "code",
      "source": [
        "from google.colab import drive                                               \n",
        "drive.mount('/content/drive/')\n",
        "\n",
        "%cp -r /content/drive/MyDrive/Tesi_ModelData/cubert_pretrained_model_epochs_2 /content/cubert_keras/src/fitness/cubert_fitness/cubert_pretrained_model_epochs_2\n",
        "#%cp -r /content/drive/MyDrive/Tesi_ModelData/cubert_pretrained_model_exceptions /content/cubert_keras/src/fitness/cubert_fitness/cubert_pretrained_model_exceptions"
      ],
      "metadata": {
        "id": "nGlhUhkFmTHx"
      },
      "execution_count": null,
      "outputs": []
    },
    {
      "cell_type": "code",
      "source": [
        "!pip install -r ../requirements.txt"
      ],
      "metadata": {
        "id": "3O-Dvl6MOjK_"
      },
      "execution_count": null,
      "outputs": []
    },
    {
      "cell_type": "code",
      "source": [
        "textList = [\n",
        "    \"CACHE:                  True\",\n",
        "    \"CODON_SIZE:             100000\",\n",
        "    \"CROSSOVER:              variable_onepoint\",\n",
        "    \"CROSSOVER_PROBABILITY:  0.75\",\n",
        "    \"GENERATIONS:            10\",\n",
        "    \"MAX_GENOME_LENGTH:      500\",\n",
        "    \"GRAMMAR_FILE:           python_cc_simpl.pybnf\",\n",
        "    \"INITIALISATION:         PI_grow\",\n",
        "    \"INVALID_SELECTION:      False\",\n",
        "    \"MAX_INIT_TREE_DEPTH:    10\",\n",
        "    \"MAX_TREE_DEPTH:         17\",\n",
        "    \"MUTATION:               int_flip_per_codon\",\n",
        "    \"MUTATION_PROBABILITY:   None\",\n",
        "    \"POPULATION_SIZE:        50\",\n",
        "    \"FITNESS_FUNCTION:       cubert_fitness.intermediate_layer_e2\",\n",
        "    \"REPLACEMENT:            generational\",\n",
        "    \"SELECTION:              tournament\",\n",
        "    \"TOURNAMENT_SIZE:        2\",\n",
        "    \"ELITE_SIZE:             5\",\n",
        "    \"MUTATE_DUPLICATES       True\",\n",
        "    \"VERBOSE:                True\",\n",
        "    \"DEBUG:                  True\",\n",
        "    \"SAVE_ALL:               True\"\n",
        "]\n",
        "\n",
        "outF = open(\"../parameters/colab_pygr.txt\", \"w\")\n",
        "for line in textList:\n",
        "  # write line to output file\n",
        "  outF.write(line)\n",
        "  outF.write(\"\\n\")\n",
        "outF.close()"
      ],
      "metadata": {
        "id": "HXo0Pi9NM2H4"
      },
      "execution_count": 20,
      "outputs": []
    },
    {
      "cell_type": "code",
      "source": [
        "!python ponyge.py --parameters colab_pygr.txt\n",
        "\n",
        "#CODICE CODA DI STAMPA DA COPIARE NELLA FITNESS FUNC\n",
        "\"\"\"\n",
        "IN INIT\n",
        "self.queue = []\n",
        "for i in range(10):\n",
        "  self.queue.append({\"fit\":th, \"ind\":\"\"})\n",
        "\n",
        "IN EVAL\n",
        "if res <> self.queue[-1][\"fit\"]:\n",
        "  self.queue.pop()\n",
        "  self.queue.append({\"fit\":res, \"ind\":ind.phenotype})\n",
        "  print(queue)\n",
        "\"\"\""
      ],
      "metadata": {
        "id": "4RJR79kCOUeu",
        "outputId": "5bab2397-bf71-4a99-a971-321b530f025e",
        "colab": {
          "base_uri": "https://localhost:8080/",
          "height": 454
        }
      },
      "execution_count": 21,
      "outputs": [
        {
          "output_type": "stream",
          "name": "stdout",
          "text": [
            "\n",
            "Start:\t 2022-04-04 10:03:31.087175 \n",
            "\n",
            "Seed:\t 87175 \n",
            "\n",
            "Traceback (most recent call last):\n",
            "  File \"ponyge.py\", line 35, in <module>\n",
            "    set_params(sys.argv[1:])  # exclude the ponyge.py arg itself\n",
            "  File \"/content/cubert_keras/src/cubert_keras/src/algorithm/parameters.py\", line 309, in set_params\n",
            "    set_param_imports()\n",
            "  File \"/content/cubert_keras/src/cubert_keras/src/utilities/algorithm/initialise_run.py\", line 99, in set_param_imports\n",
            "    get_fit_func_imports()\n",
            "  File \"/content/cubert_keras/src/cubert_keras/src/utilities/algorithm/initialise_run.py\", line 244, in get_fit_func_imports\n",
            "    params[op] = params[op]()\n",
            "  File \"/content/cubert_keras/src/cubert_keras/src/fitness/cubert_fitness/intermediate_layer_e2.py\", line 55, in __init__\n",
            "    self.model = load_trained_model_from_checkpoint(paths.config, paths.checkpoint, training=False)\n",
            "  File \"/content/cubert_keras/src/cubert_keras/src/keras_bert/loader.py\", line 177, in load_trained_model_from_checkpoint\n",
            "    **kwargs)\n",
            "  File \"/content/cubert_keras/src/cubert_keras/src/keras_bert/loader.py\", line 41, in build_model_from_config\n",
            "    with open(config_file, 'r') as reader:\n",
            "FileNotFoundError: [Errno 2] No such file or directory: 'fitness/cubert_fitness/cubert_pretrained_model_epochs_2/bert_config.json'\n"
          ]
        },
        {
          "output_type": "execute_result",
          "data": {
            "text/plain": [
              "'\\nIN INIT\\nself.queue = []\\nfor i in range(10):\\n  self.queue.append({\"fit\":th, \"ind\":\"\"})\\n\\nIN EVAL\\nif res <> self.queue[-1][\"fit\"]:\\n  self.queue.pop()\\n  self.queue.append({\"fit\":res, \"ind\":ind.phenotype})\\n  print(queue)\\n'"
            ],
            "application/vnd.google.colaboratory.intrinsic+json": {
              "type": "string"
            }
          },
          "metadata": {},
          "execution_count": 21
        }
      ]
    },
    {
      "cell_type": "code",
      "source": [
        "!zip -r /content/results.zip /content/cubert_keras/results\n",
        "\n",
        "from google.colab import files\n",
        "files.download(\"/content/results.zip\")"
      ],
      "metadata": {
        "id": "K_nPcfpfWQWt"
      },
      "execution_count": null,
      "outputs": []
    }
  ]
}